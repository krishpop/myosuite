{
 "cells": [
  {
   "cell_type": "code",
   "execution_count": 1,
   "metadata": {},
   "outputs": [
    {
     "name": "stdout",
     "output_type": "stream",
     "text": [
      "MyoSuite:> Registering Myo Envs\n"
     ]
    }
   ],
   "source": [
    "import myosuite\n",
    "import hydra\n",
    "import gym\n",
    "import os\n",
    "import json\n",
    "import time as timer\n",
    "from stable_baselines3 import PPO, SAC\n",
    "from stable_baselines3.common.callbacks import CheckpointCallback\n",
    "from stable_baselines3.common.env_util import make_vec_env\n",
    "from stable_baselines3.common.logger import configure\n",
    "from stable_baselines3.common.vec_env import VecNormalize\n",
    "import numpy as np\n",
    "import torch\n",
    "import myosuite.envs.myo.myobase\n",
    "import h5py\n",
    "from tqdm import tqdm\n",
    "from torch.utils.data.sampler import BatchSampler, SequentialSampler, SubsetRandomSampler\n",
    "\n",
    "from pathlib import Path\n",
    "import yaml\n",
    "\n",
    "from mujoco import mjtVisFlag\n",
    "\n",
    "import imageio\n",
    "from gym import spaces\n",
    "import matplotlib.pyplot as plt\n",
    "import robomimic.utils.tensor_utils as TensorUtils"
   ]
  },
  {
   "cell_type": "code",
   "execution_count": 2,
   "metadata": {},
   "outputs": [
    {
     "name": "stdout",
     "output_type": "stream",
     "text": [
      "True\n"
     ]
    },
    {
     "data": {
      "text/plain": [
       "[(PosixPath('/home/krishnans/myosuite/myosuite/agents/multirun/2024-05-16/21-37-31/6'),\n",
       "  'myoHandPenTwirlRandom-v0'),\n",
       " (PosixPath('/home/krishnans/myosuite/myosuite/agents/multirun/2024-05-16/21-37-31/2'),\n",
       "  'myoHandObjHoldFixed-v0'),\n",
       " (PosixPath('/home/krishnans/myosuite/myosuite/agents/multirun/2024-05-16/21-37-31/1'),\n",
       "  'myoHandKeyTurnRandom-v0'),\n",
       " (PosixPath('/home/krishnans/myosuite/myosuite/agents/multirun/2024-05-16/21-37-31/8'),\n",
       "  'myoHandKeyTurnFixed-v0'),\n",
       " (PosixPath('/home/krishnans/myosuite/myosuite/agents/multirun/2024-05-16/21-37-31/0'),\n",
       "  'myoHandPoseFixed-v0'),\n",
       " (PosixPath('/home/krishnans/myosuite/myosuite/agents/multirun/2024-05-16/21-37-31/7'),\n",
       "  'myoHandPenTwirlFixed-v0'),\n",
       " (PosixPath('/home/krishnans/myosuite/myosuite/agents/multirun/2024-05-16/21-37-31/4'),\n",
       "  'myoHandPoseRandom-v0'),\n",
       " (PosixPath('/home/krishnans/myosuite/myosuite/agents/multirun/2024-05-16/21-37-31/9'),\n",
       "  'myoHandObjHoldRandom-v0'),\n",
       " (PosixPath('/home/krishnans/myosuite/myosuite/agents/multirun/2024-05-16/21-37-31/5'),\n",
       "  'myoHandReachRandom-v0'),\n",
       " (PosixPath('/home/krishnans/myosuite/myosuite/agents/multirun/2024-05-16/21-37-31/3'),\n",
       "  'myoHandReachFixed-v0')]"
      ]
     },
     "execution_count": 2,
     "metadata": {},
     "output_type": "execute_result"
    }
   ],
   "source": [
    "multi_path = \"2024-05-16/21-37-31\" \n",
    "model_ckpt_path = Path(f\"/home/krishnans/myosuite/myosuite/agents/multirun/{multi_path}\")\n",
    "\n",
    "print(model_ckpt_path.exists())\n",
    "model_ckpt_roots = list(filter(lambda x: not x.name.startswith('.') and x.is_dir(), model_ckpt_path.iterdir()))\n",
    "filter_envs = ['handreach', 'pentwirl', 'objhold', 'keyturn', 'handpose']\n",
    "all_envs = [(ckpt_dir, yaml.safe_load((ckpt_dir / \"job_config.json\").open())['env']) for ckpt_dir in model_ckpt_roots]\n",
    "envs = list(filter(lambda x: any([y in x[1].lower() for y in filter_envs]) and any([str(x).endswith('.zip') for x in x[0].iterdir()]), all_envs))\n",
    "envs\n",
    "\n"
   ]
  },
  {
   "cell_type": "code",
   "execution_count": 152,
   "metadata": {},
   "outputs": [
    {
     "data": {
      "text/plain": [
       "'myoHandPoseFixed-v0,myoHandKeyTurnRandom-v0,myoHandObjHoldFixed-v0,myoHandReachFixed-v0,myoHandPoseRandom-v0,myoHandReachRandom-v0,myoHandPenTwirlRandom-v0,myoHandPenTwirlFixed-v0,myoHandKeyTurnFixed-v0,myoHandObjHoldRandom-v0'"
      ]
     },
     "execution_count": 152,
     "metadata": {},
     "output_type": "execute_result"
    }
   ],
   "source": [
    "','.join([env[1] for env in envs])"
   ]
  },
  {
   "cell_type": "markdown",
   "metadata": {},
   "source": [
    "## Simple create env and run policy example\n",
    "```python\n",
    "num_rollouts = 500\n",
    "\n",
    "eval_env = make_vec_env(cfg.env, n_envs=cfg.n_eval_env)\n",
    "eval_env = VecNormalize(eval_env, norm_obs=True, norm_reward=False, clip_obs=10.)\n",
    "\n",
    "model = PPO(cfg.policy, eval_env,  verbose=1,\n",
    "                    learning_rate=cfg.learning_rate, \n",
    "                    batch_size=cfg.batch_size, \n",
    "                    gamma=cfg.gamma, **cfg.alg_hyper_params)\n",
    "model = PPO.load(model_ckpt_dir + \"/\" + cfg.env + \"_PPO_model\")\n",
    "\n",
    "obs = eval_env.reset()\n",
    "dones = np.zeros(1)\n",
    "it = 0\n",
    "while True:\n",
    "    with torch.no_grad():\n",
    "        it += 1\n",
    "        action, _states = model.predict(obs)\n",
    "        obs, rewards, dones, info = eval_env.step(action)\n",
    "        if any(dones):\n",
    "            break\n",
    "print (it)\n",
    "```"
   ]
  },
  {
   "cell_type": "code",
   "execution_count": 8,
   "metadata": {},
   "outputs": [],
   "source": [
    "class RolloutStorage:\n",
    "\n",
    "    def __init__(\n",
    "        self,\n",
    "        num_envs,\n",
    "        num_transitions_per_env,\n",
    "        obs_shape,\n",
    "        states_shape,\n",
    "        actions_shape,\n",
    "        device=\"cpu\",\n",
    "        sampler=\"sequential\",\n",
    "    ):\n",
    "\n",
    "        self.device = device\n",
    "        self.sampler = sampler\n",
    "\n",
    "        # Core\n",
    "        self.observations = torch.zeros(num_transitions_per_env, num_envs, *obs_shape, device=self.device)\n",
    "        self.states = torch.zeros(num_transitions_per_env, num_envs, *states_shape, device=self.device)\n",
    "        self.rewards = torch.zeros(num_transitions_per_env, num_envs, 1, device=self.device)\n",
    "        self.actions = torch.zeros(num_transitions_per_env, num_envs, *actions_shape, device=self.device)\n",
    "        self.dones = torch.zeros(num_transitions_per_env, num_envs, 1, device=self.device).byte()\n",
    "\n",
    "        # For PPO\n",
    "        self.actions_log_prob = torch.zeros(num_transitions_per_env, num_envs, 1, device=self.device)\n",
    "        self.values = torch.zeros(num_transitions_per_env, num_envs, 1, device=self.device)\n",
    "        self.returns = torch.zeros(num_transitions_per_env, num_envs, 1, device=self.device)\n",
    "        self.advantages = torch.zeros(num_transitions_per_env, num_envs, 1, device=self.device)\n",
    "        self.mu = torch.zeros(num_transitions_per_env, num_envs, *actions_shape, device=self.device)\n",
    "        self.sigma = torch.zeros(num_transitions_per_env, num_envs, *actions_shape, device=self.device)\n",
    "\n",
    "        self.num_transitions_per_env = num_transitions_per_env\n",
    "        self.num_envs = num_envs\n",
    "\n",
    "        self.step = 0\n",
    "\n",
    "    def add_transitions(self, observations, states, actions, rewards, dones, values, actions_log_prob, mu, sigma):\n",
    "        if self.step >= self.num_transitions_per_env:\n",
    "            raise AssertionError(\"Rollout buffer overflow\")\n",
    "\n",
    "        self.observations[self.step].copy_(observations)\n",
    "        self.states[self.step].copy_(states)\n",
    "        self.actions[self.step].copy_(actions)\n",
    "        self.rewards[self.step].copy_(rewards.view(-1, 1))\n",
    "        self.dones[self.step].copy_(dones.view(-1, 1))\n",
    "        self.values[self.step].copy_(values)\n",
    "        self.actions_log_prob[self.step].copy_(actions_log_prob.view(-1, 1))\n",
    "        self.mu[self.step].copy_(mu)\n",
    "        self.sigma[self.step].copy_(sigma)\n",
    "        self.step += 1\n",
    "\n",
    "    def clear(self):\n",
    "        self.step = 0\n",
    "\n",
    "    def clear_vec(self, dones):\n",
    "        self.step_vec[dones] = 0\n",
    "\n",
    "    def compute_returns(self, last_values, gamma, lam):\n",
    "        advantage = 0\n",
    "        for step in reversed(range(self.num_transitions_per_env)):\n",
    "            if step == self.num_transitions_per_env - 1:\n",
    "                next_values = last_values\n",
    "            else:\n",
    "                next_values = self.values[step + 1]\n",
    "            next_is_not_terminal = 1.0 - self.dones[step].float()\n",
    "            delta = self.rewards[step] + next_is_not_terminal * gamma * next_values - self.values[step]\n",
    "            advantage = delta + next_is_not_terminal * gamma * lam * advantage\n",
    "            self.returns[step] = advantage + self.values[step]\n",
    "\n",
    "        # Compute and normalize the advantages\n",
    "        self.advantages = self.returns - self.values\n",
    "        self.advantages = (self.advantages - self.advantages.mean()) / (self.advantages.std() + 1e-8)\n",
    "\n",
    "    def get_statistics(self):\n",
    "        done = self.dones.cpu()\n",
    "        done[-1] = 1\n",
    "        flat_dones = done.permute(1, 0, 2).reshape(-1, 1)\n",
    "        done_indices = torch.cat(\n",
    "            (flat_dones.new_tensor([-1], dtype=torch.int64), flat_dones.nonzero(as_tuple=False)[:, 0])\n",
    "        )\n",
    "        trajectory_lengths = done_indices[1:] - done_indices[:-1]\n",
    "        return trajectory_lengths.float().mean(), self.rewards.mean()\n",
    "\n",
    "    def mini_batch_generator(self, num_mini_batches):\n",
    "        batch_size = self.num_envs * self.num_transitions_per_env\n",
    "        mini_batch_size = batch_size // num_mini_batches\n",
    "\n",
    "        if self.sampler == \"sequential\":\n",
    "            # For physics-based RL, each environment is already randomized. There is no value to doing random sampling\n",
    "            # but a lot of CPU overhead during the PPO process. So, we can just switch to a sequential sampler instead\n",
    "            subset = SequentialSampler(range(batch_size))\n",
    "        elif self.sampler == \"random\":\n",
    "            subset = SubsetRandomSampler(range(batch_size))\n",
    "\n",
    "        batch = BatchSampler(subset, mini_batch_size, drop_last=True)\n",
    "        return batch\n",
    "\n",
    "\n",
    "class RolloutDataset(RolloutStorage):\n",
    "    def __init__(\n",
    "        self,\n",
    "        num_envs,\n",
    "        num_transitions_per_env,\n",
    "        obs_shape,\n",
    "        actions_shape,\n",
    "        save_path,\n",
    "        num_rollouts,\n",
    "        device=\"cpu\",\n",
    "        sampler=\"sequential\",\n",
    "        success_reward_filter=None,\n",
    "    ):\n",
    "\n",
    "        self.device = device\n",
    "        self.sampler = sampler\n",
    "\n",
    "        # Core\n",
    "        self.observations = {key: torch.zeros(num_transitions_per_env, num_envs, *obs_shape.shape, device=self.device) for key, obs_shape in obs_shape.items()}\n",
    "        print({k: self.observations[k].shape for k in self.observations})\n",
    "        # self.states = torch.zeros(num_transitions_per_env, num_envs, *states_shape, device=self.device)\n",
    "        self.rewards = torch.zeros(num_transitions_per_env, num_envs, 1, device=self.device)\n",
    "        self.actions = torch.zeros(num_transitions_per_env, num_envs, *actions_shape, device=self.device)\n",
    "        self.dones = torch.zeros(num_transitions_per_env, num_envs, 1, device=self.device).byte()\n",
    "\n",
    "        # For PPO\n",
    "        self.actions_log_prob = torch.zeros(num_transitions_per_env, num_envs, 1, device=self.device)\n",
    "        self.values = torch.zeros(num_transitions_per_env, num_envs, 1, device=self.device)\n",
    "        self.returns = torch.zeros(num_transitions_per_env, num_envs, 1, device=self.device)\n",
    "        self.advantages = torch.zeros(num_transitions_per_env, num_envs, 1, device=self.device)\n",
    "        self.mu = torch.zeros(num_transitions_per_env, num_envs, *actions_shape, device=self.device)\n",
    "        self.sigma = torch.zeros(num_transitions_per_env, num_envs, *actions_shape, device=self.device)\n",
    "\n",
    "        self.num_transitions_per_env = num_transitions_per_env\n",
    "        self.num_envs = num_envs\n",
    "\n",
    "        self.step = 0\n",
    "        self.step_vec = torch.zeros(num_envs, device=self.device, dtype=int)\n",
    "        self.success_reward_filter = success_reward_filter  # if float, only save demos where the last reward is greater than this\n",
    "        self.save_path = save_path\n",
    "        self.num_rollouts = num_rollouts\n",
    "        if self.num_rollouts > 0:\n",
    "            self.pbar = tqdm(total=self.num_rollouts, desc=\"Saving demos\")\n",
    "        if os.path.exists(self.save_path):\n",
    "            with h5py.File(self.save_path, \"r\") as f:\n",
    "                if \"data\" in f:\n",
    "                    self.pbar = tqdm(total=self.num_rollouts, desc=\"Saving demos\", initial=len(f[\"data\"]))\n",
    "\n",
    "\n",
    "    def save_hdf5(self):\n",
    "        with h5py.File(self.save_path, \"a\") as f:\n",
    "            # Store each episode as a separate demo\n",
    "            if \"data\" not in f:\n",
    "                grp = f.create_group(\"data\")\n",
    "            else:\n",
    "                grp = f[\"data\"]\n",
    "\n",
    "            # Get the done values of all envs at the current step\n",
    "            done_eps = torch.gather(self.dones, 0, (self.step_vec - 1).view(-1, 1, 1)).squeeze()\n",
    "\n",
    "            # Get the done indices of all envs at the current step\n",
    "            done_indices = torch.nonzero(done_eps, as_tuple=True)[0]\n",
    "\n",
    "            ep = len(grp)\n",
    "\n",
    "            for env_idx in done_indices:\n",
    "                ep = len(grp)\n",
    "                if ep >= self.num_rollouts:\n",
    "                    break\n",
    "                # If done and not a success, continue\n",
    "                # check if last reward is greater than self.success_reward_filter\n",
    "                if self.success_reward_filter and self.rewards[-1, env_idx] < self.success_reward_filter:\n",
    "                    continue\n",
    "                grp_ep = grp.create_group(f\"demo_{ep}\")\n",
    "                grp_ep.attrs[\"num_samples\"] = int(self.step_vec[env_idx]) - 1\n",
    "                grp_obs = grp_ep.create_group(\"obs\")\n",
    "                for key in self.observations.keys():\n",
    "                    data = self.observations[key][:int(self.step_vec[env_idx]) - 1, env_idx].cpu().numpy()\n",
    "                    grp_obs.create_dataset(key, data=data, compression=\"gzip\")\n",
    "\n",
    "                for key in [\"actions\", \"rewards\", \"dones\"]:\n",
    "                    data = getattr(self, key)[:int(self.step_vec[env_idx]) - 1, env_idx].cpu().numpy()\n",
    "                    grp_ep.create_dataset(key, data=data, compression=\"gzip\")\n",
    "                self.pbar.update(1)\n",
    "\n",
    "            # Reset the step for done episodes\n",
    "            self.clear_vec(done_indices)\n",
    "        return ep\n",
    "\n",
    "    def add_rollout_transitions(self, observations, actions, rewards, dones):\n",
    "        for env_idx in range(self.num_envs):\n",
    "            step = int(self.step_vec[env_idx])\n",
    "            if step >= self.num_transitions_per_env:\n",
    "                raise AssertionError(f\"Rollout buffer overflow at index {env_idx}\")\n",
    "\n",
    "            for key in self.observations.keys():\n",
    "                self.observations[key][step, env_idx].copy_(observations[key][env_idx])\n",
    "            self.actions[step, env_idx].copy_(actions[env_idx])\n",
    "            self.rewards[step, env_idx].copy_(rewards[env_idx].view(-1))\n",
    "            self.dones[step, env_idx].copy_(dones[env_idx].view(-1))\n",
    "\n",
    "            self.step_vec[env_idx] += 1\n",
    "\n",
    "\n",
    "class MyoSuiteCameraWrapper(gym.Wrapper):\n",
    "    def __init__(self, env, frame_size=(244, 244), camera_names=['hand_side_inter']):\n",
    "        super().__init__(env)\n",
    "        self.env = env\n",
    "        self.frame_size = frame_size\n",
    "        self.camera_names = camera_names\n",
    "        self.camera_observation_space = spaces.Dict({\n",
    "            cam_name: spaces.Box(0, 255, (*frame_size, 3), dtype=np.uint8)\n",
    "            for cam_name in self.camera_names\n",
    "        })\n",
    "        self.has_rendered = False\n",
    "\n",
    "    def step(self, action):\n",
    "        obs, reward, done, info = self.env.step(action)\n",
    "        info.update(self.get_camera_obs())\n",
    "        info['success'] = info['solved']\n",
    "        return obs, reward, done, info\n",
    "\n",
    "    def get_camera_obs(self):\n",
    "        if not self.has_rendered: \n",
    "            self.env.sim.renderer.render_offscreen(width=5, height=5, camera_id=-1)\n",
    "            self.has_rendered = True\n",
    "            self.env.sim.renderer._scene_option.flags[mjtVisFlag.mjVIS_STATIC] = 0\n",
    "        return {cam_name: self.env.sim.renderer.render_offscreen(\n",
    "            width=self.frame_size[0], height=self.frame_size[1],\n",
    "            camera_id=cam_name) for cam_name in self.camera_names\n",
    "            } "
   ]
  },
  {
   "cell_type": "code",
   "execution_count": 9,
   "metadata": {},
   "outputs": [],
   "source": [
    "def collect_rollouts(cfg, model_dir, hdf5_save_path, num_rollouts=1000, camera_names=['hand_side_inter'], frame_size=(224, 224),\n",
    "device='cuda'):\n",
    "    eval_env = make_vec_env(cfg.env, n_envs=cfg.n_eval_env)\n",
    "    max_episode_steps = gym.envs.registry.spec(cfg.env).max_episode_steps\n",
    "    # , wrapper_class=MyoSuiteCameraWrapper, wrapper_kwargs={\"camera_names\": camera_names, \"frame_size\": frame_size})\n",
    "    eval_env = VecNormalize(eval_env, norm_obs=True, norm_reward=False, clip_obs=10.)\n",
    "\n",
    "    model = PPO(cfg.policy, eval_env,  verbose=1,\n",
    "                        learning_rate=cfg.learning_rate, \n",
    "                        batch_size=cfg.batch_size, \n",
    "                        gamma=cfg.gamma, **cfg.alg_hyper_params)\n",
    "    model = PPO.load(model_dir + \"/\" + cfg.env + \"_PPO_model\")\n",
    "\n",
    "    # Where to get the n_steps?\n",
    "    obs_space = {\n",
    "        'obs': eval_env.observation_space,\n",
    "        'success': spaces.Box(0, 1, (1,)), \n",
    "        }\n",
    "    obs_space.update({\n",
    "            cam_name: spaces.Box(0, 255, (*frame_size, 3), dtype=np.uint8)\n",
    "            for cam_name in camera_names\n",
    "        })\n",
    "\n",
    "    storage = RolloutDataset(\n",
    "        eval_env.num_envs, max_episode_steps, obs_space, \n",
    "        eval_env.action_space.shape, hdf5_save_path, num_rollouts, device, 'sequential', None\n",
    "    )\n",
    "\n",
    "    obs = eval_env.reset()\n",
    "    for env in eval_env.envs:\n",
    "        env.sim.renderer.render_offscreen(width=frame_size[0], height=frame_size[1], camera_id=-1)\n",
    "        env.sim.renderer._scene_option.flags[mjtVisFlag.mjVIS_STATIC] = 0\n",
    "    \n",
    "    def get_img(env, camera_name):\n",
    "        return env.sim.renderer.render_offscreen(width=frame_size[0],\n",
    "         height=frame_size[1], camera_id=camera_name)\n",
    "\n",
    "    rollouts = 0\n",
    "    it = 0\n",
    "    while True:\n",
    "        it += 1\n",
    "        with torch.no_grad():\n",
    "            action, _states = model.predict(obs)\n",
    "            obs, rewards, dones, info = eval_env.step(action) \n",
    "            obs_dict = {'obs': obs, 'success': np.stack([i[\"solved\"] for i in info])}\n",
    "            obs_dict.update({\n",
    "                cam_name: np.stack([get_img(env, cam_name) for env in eval_env.envs]) \n",
    "                for cam_name in camera_names}\n",
    "            )\n",
    "            obs_dict = TensorUtils.to_torch(obs_dict, device)\n",
    "            storage.add_rollout_transitions(obs_dict, torch.tensor(action), torch.tensor(rewards), torch.tensor(dones))\n",
    "            if dones.any():\n",
    "                rollouts = storage.save_hdf5()\n",
    "                if rollouts >= num_rollouts:\n",
    "                    break\n"
   ]
  },
  {
   "cell_type": "code",
   "execution_count": 12,
   "metadata": {},
   "outputs": [
    {
     "name": "stderr",
     "output_type": "stream",
     "text": [
      "/tmp/ipykernel_2759057/3277533734.py:6: UserWarning: \n",
      "The version_base parameter is not specified.\n",
      "Please specify a compatability version level, or None.\n",
      "Will assume defaults for version 1.1\n",
      "  with hydra.initialize_config_dir(config_dir):\n"
     ]
    },
    {
     "name": "stdout",
     "output_type": "stream",
     "text": [
      "Collecting env:  myoHandKeyTurnFixed-v0\n",
      "Using cuda device\n",
      "{'obs': torch.Size([200, 64, 93]), 'success': torch.Size([200, 64, 1]), 'hand_side_inter': torch.Size([200, 64, 224, 224, 3])}\n"
     ]
    },
    {
     "ename": "KeyboardInterrupt",
     "evalue": "",
     "output_type": "error",
     "traceback": [
      "\u001b[0;31m---------------------------------------------------------------------------\u001b[0m",
      "\u001b[0;31mKeyboardInterrupt\u001b[0m                         Traceback (most recent call last)",
      "Cell \u001b[0;32mIn[12], line 10\u001b[0m\n\u001b[1;32m      7\u001b[0m     cfg \u001b[38;5;241m=\u001b[39m hydra\u001b[38;5;241m.\u001b[39mcompose(\u001b[38;5;124m'\u001b[39m\u001b[38;5;124mconfig\u001b[39m\u001b[38;5;124m'\u001b[39m, overrides\u001b[38;5;241m=\u001b[39m[\u001b[38;5;124m'\u001b[39m\u001b[38;5;124mn_eval_env=64\u001b[39m\u001b[38;5;124m'\u001b[39m])\n\u001b[1;32m      9\u001b[0m \u001b[38;5;28mprint\u001b[39m(\u001b[38;5;124m\"\u001b[39m\u001b[38;5;124mCollecting env: \u001b[39m\u001b[38;5;124m\"\u001b[39m, cfg\u001b[38;5;241m.\u001b[39menv)\n\u001b[0;32m---> 10\u001b[0m \u001b[43mcollect_rollouts\u001b[49m\u001b[43m(\u001b[49m\u001b[43mcfg\u001b[49m\u001b[43m,\u001b[49m\u001b[43m \u001b[49m\u001b[43mmodel_ckpt_dir\u001b[49m\u001b[43m,\u001b[49m\u001b[43m \u001b[49m\u001b[43mhdf5_save_path\u001b[49m\u001b[43m,\u001b[49m\u001b[43m \u001b[49m\u001b[38;5;241;43m5000\u001b[39;49m\u001b[43m)\u001b[49m\n",
      "Cell \u001b[0;32mIn[9], line 24\u001b[0m, in \u001b[0;36mcollect_rollouts\u001b[0;34m(cfg, model_dir, hdf5_save_path, num_rollouts, camera_names, frame_size, device)\u001b[0m\n\u001b[1;32m     15\u001b[0m obs_space \u001b[38;5;241m=\u001b[39m {\n\u001b[1;32m     16\u001b[0m     \u001b[38;5;124m'\u001b[39m\u001b[38;5;124mobs\u001b[39m\u001b[38;5;124m'\u001b[39m: eval_env\u001b[38;5;241m.\u001b[39mobservation_space,\n\u001b[1;32m     17\u001b[0m     \u001b[38;5;124m'\u001b[39m\u001b[38;5;124msuccess\u001b[39m\u001b[38;5;124m'\u001b[39m: spaces\u001b[38;5;241m.\u001b[39mBox(\u001b[38;5;241m0\u001b[39m, \u001b[38;5;241m1\u001b[39m, (\u001b[38;5;241m1\u001b[39m,)), \n\u001b[1;32m     18\u001b[0m     }\n\u001b[1;32m     19\u001b[0m obs_space\u001b[38;5;241m.\u001b[39mupdate({\n\u001b[1;32m     20\u001b[0m         cam_name: spaces\u001b[38;5;241m.\u001b[39mBox(\u001b[38;5;241m0\u001b[39m, \u001b[38;5;241m255\u001b[39m, (\u001b[38;5;241m*\u001b[39mframe_size, \u001b[38;5;241m3\u001b[39m), dtype\u001b[38;5;241m=\u001b[39mnp\u001b[38;5;241m.\u001b[39muint8)\n\u001b[1;32m     21\u001b[0m         \u001b[38;5;28;01mfor\u001b[39;00m cam_name \u001b[38;5;129;01min\u001b[39;00m camera_names\n\u001b[1;32m     22\u001b[0m     })\n\u001b[0;32m---> 24\u001b[0m storage \u001b[38;5;241m=\u001b[39m \u001b[43mRolloutDataset\u001b[49m\u001b[43m(\u001b[49m\n\u001b[1;32m     25\u001b[0m \u001b[43m    \u001b[49m\u001b[43meval_env\u001b[49m\u001b[38;5;241;43m.\u001b[39;49m\u001b[43mnum_envs\u001b[49m\u001b[43m,\u001b[49m\u001b[43m \u001b[49m\u001b[43mmax_episode_steps\u001b[49m\u001b[43m,\u001b[49m\u001b[43m \u001b[49m\u001b[43mobs_space\u001b[49m\u001b[43m,\u001b[49m\u001b[43m \u001b[49m\n\u001b[1;32m     26\u001b[0m \u001b[43m    \u001b[49m\u001b[43meval_env\u001b[49m\u001b[38;5;241;43m.\u001b[39;49m\u001b[43maction_space\u001b[49m\u001b[38;5;241;43m.\u001b[39;49m\u001b[43mshape\u001b[49m\u001b[43m,\u001b[49m\u001b[43m \u001b[49m\u001b[43mhdf5_save_path\u001b[49m\u001b[43m,\u001b[49m\u001b[43m \u001b[49m\u001b[43mnum_rollouts\u001b[49m\u001b[43m,\u001b[49m\u001b[43m \u001b[49m\u001b[43mdevice\u001b[49m\u001b[43m,\u001b[49m\u001b[43m \u001b[49m\u001b[38;5;124;43m'\u001b[39;49m\u001b[38;5;124;43msequential\u001b[39;49m\u001b[38;5;124;43m'\u001b[39;49m\u001b[43m,\u001b[49m\u001b[43m \u001b[49m\u001b[38;5;28;43;01mNone\u001b[39;49;00m\n\u001b[1;32m     27\u001b[0m \u001b[43m\u001b[49m\u001b[43m)\u001b[49m\n\u001b[1;32m     29\u001b[0m obs \u001b[38;5;241m=\u001b[39m eval_env\u001b[38;5;241m.\u001b[39mreset()\n\u001b[1;32m     30\u001b[0m \u001b[38;5;28;01mfor\u001b[39;00m env \u001b[38;5;129;01min\u001b[39;00m eval_env\u001b[38;5;241m.\u001b[39menvs:\n",
      "Cell \u001b[0;32mIn[8], line 141\u001b[0m, in \u001b[0;36mRolloutDataset.__init__\u001b[0;34m(self, num_envs, num_transitions_per_env, obs_shape, actions_shape, save_path, num_rollouts, device, sampler, success_reward_filter)\u001b[0m\n\u001b[1;32m    139\u001b[0m \u001b[38;5;28mself\u001b[39m\u001b[38;5;241m.\u001b[39mnum_rollouts \u001b[38;5;241m=\u001b[39m num_rollouts\n\u001b[1;32m    140\u001b[0m \u001b[38;5;28;01mif\u001b[39;00m \u001b[38;5;28mself\u001b[39m\u001b[38;5;241m.\u001b[39mnum_rollouts \u001b[38;5;241m>\u001b[39m \u001b[38;5;241m0\u001b[39m:\n\u001b[0;32m--> 141\u001b[0m     \u001b[38;5;28mself\u001b[39m\u001b[38;5;241m.\u001b[39mpbar \u001b[38;5;241m=\u001b[39m \u001b[43mtqdm\u001b[49m\u001b[43m(\u001b[49m\u001b[43mtotal\u001b[49m\u001b[38;5;241;43m=\u001b[39;49m\u001b[38;5;28;43mself\u001b[39;49m\u001b[38;5;241;43m.\u001b[39;49m\u001b[43mnum_rollouts\u001b[49m\u001b[43m,\u001b[49m\u001b[43m \u001b[49m\u001b[43mdesc\u001b[49m\u001b[38;5;241;43m=\u001b[39;49m\u001b[38;5;124;43m\"\u001b[39;49m\u001b[38;5;124;43mSaving demos\u001b[39;49m\u001b[38;5;124;43m\"\u001b[39;49m\u001b[43m)\u001b[49m\n\u001b[1;32m    142\u001b[0m \u001b[38;5;28;01mif\u001b[39;00m os\u001b[38;5;241m.\u001b[39mpath\u001b[38;5;241m.\u001b[39mexists(\u001b[38;5;28mself\u001b[39m\u001b[38;5;241m.\u001b[39msave_path):\n\u001b[1;32m    143\u001b[0m     \u001b[38;5;28;01mwith\u001b[39;00m h5py\u001b[38;5;241m.\u001b[39mFile(\u001b[38;5;28mself\u001b[39m\u001b[38;5;241m.\u001b[39msave_path, \u001b[38;5;124m\"\u001b[39m\u001b[38;5;124mr\u001b[39m\u001b[38;5;124m\"\u001b[39m) \u001b[38;5;28;01mas\u001b[39;00m f:\n",
      "File \u001b[0;32m~/miniconda3/envs/robomimic/lib/python3.8/site-packages/tqdm/std.py:674\u001b[0m, in \u001b[0;36mtqdm.__new__\u001b[0;34m(cls, *_, **__)\u001b[0m\n\u001b[1;32m    671\u001b[0m \u001b[38;5;28;01mif\u001b[39;00m \u001b[38;5;28mcls\u001b[39m\u001b[38;5;241m.\u001b[39mmonitor_interval \u001b[38;5;129;01mand\u001b[39;00m (\u001b[38;5;28mcls\u001b[39m\u001b[38;5;241m.\u001b[39mmonitor \u001b[38;5;129;01mis\u001b[39;00m \u001b[38;5;28;01mNone\u001b[39;00m\n\u001b[1;32m    672\u001b[0m                              \u001b[38;5;129;01mor\u001b[39;00m \u001b[38;5;129;01mnot\u001b[39;00m \u001b[38;5;28mcls\u001b[39m\u001b[38;5;241m.\u001b[39mmonitor\u001b[38;5;241m.\u001b[39mreport()):\n\u001b[1;32m    673\u001b[0m     \u001b[38;5;28;01mtry\u001b[39;00m:\n\u001b[0;32m--> 674\u001b[0m         \u001b[38;5;28mcls\u001b[39m\u001b[38;5;241m.\u001b[39mmonitor \u001b[38;5;241m=\u001b[39m \u001b[43mTMonitor\u001b[49m\u001b[43m(\u001b[49m\u001b[38;5;28;43mcls\u001b[39;49m\u001b[43m,\u001b[49m\u001b[43m \u001b[49m\u001b[38;5;28;43mcls\u001b[39;49m\u001b[38;5;241;43m.\u001b[39;49m\u001b[43mmonitor_interval\u001b[49m\u001b[43m)\u001b[49m\n\u001b[1;32m    675\u001b[0m     \u001b[38;5;28;01mexcept\u001b[39;00m \u001b[38;5;167;01mException\u001b[39;00m \u001b[38;5;28;01mas\u001b[39;00m e:  \u001b[38;5;66;03m# pragma: nocover\u001b[39;00m\n\u001b[1;32m    676\u001b[0m         warn(\u001b[38;5;124m\"\u001b[39m\u001b[38;5;124mtqdm:disabling monitor support\u001b[39m\u001b[38;5;124m\"\u001b[39m\n\u001b[1;32m    677\u001b[0m              \u001b[38;5;124m\"\u001b[39m\u001b[38;5;124m (monitor_interval = 0) due to:\u001b[39m\u001b[38;5;130;01m\\n\u001b[39;00m\u001b[38;5;124m\"\u001b[39m \u001b[38;5;241m+\u001b[39m \u001b[38;5;28mstr\u001b[39m(e),\n\u001b[1;32m    678\u001b[0m              TqdmMonitorWarning, stacklevel\u001b[38;5;241m=\u001b[39m\u001b[38;5;241m2\u001b[39m)\n",
      "File \u001b[0;32m~/miniconda3/envs/robomimic/lib/python3.8/site-packages/tqdm/_monitor.py:39\u001b[0m, in \u001b[0;36mTMonitor.__init__\u001b[0;34m(self, tqdm_cls, sleep_interval)\u001b[0m\n\u001b[1;32m     37\u001b[0m \u001b[38;5;28mself\u001b[39m\u001b[38;5;241m.\u001b[39mwas_killed \u001b[38;5;241m=\u001b[39m \u001b[38;5;28mself\u001b[39m\u001b[38;5;241m.\u001b[39m_test\u001b[38;5;241m.\u001b[39mget(\u001b[38;5;124m\"\u001b[39m\u001b[38;5;124mEvent\u001b[39m\u001b[38;5;124m\"\u001b[39m, Event)()\n\u001b[1;32m     38\u001b[0m atexit\u001b[38;5;241m.\u001b[39mregister(\u001b[38;5;28mself\u001b[39m\u001b[38;5;241m.\u001b[39mexit)\n\u001b[0;32m---> 39\u001b[0m \u001b[38;5;28;43mself\u001b[39;49m\u001b[38;5;241;43m.\u001b[39;49m\u001b[43mstart\u001b[49m\u001b[43m(\u001b[49m\u001b[43m)\u001b[49m\n",
      "File \u001b[0;32m~/miniconda3/envs/robomimic/lib/python3.8/threading.py:849\u001b[0m, in \u001b[0;36mThread.start\u001b[0;34m(self)\u001b[0m\n\u001b[1;32m    847\u001b[0m \u001b[38;5;28;01mif\u001b[39;00m \u001b[38;5;28mself\u001b[39m\u001b[38;5;241m.\u001b[39m_started\u001b[38;5;241m.\u001b[39mis_set():\n\u001b[1;32m    848\u001b[0m     \u001b[38;5;28;01mraise\u001b[39;00m \u001b[38;5;167;01mRuntimeError\u001b[39;00m(\u001b[38;5;124m\"\u001b[39m\u001b[38;5;124mthreads can only be started once\u001b[39m\u001b[38;5;124m\"\u001b[39m)\n\u001b[0;32m--> 849\u001b[0m \u001b[38;5;28;01mwith\u001b[39;00m _active_limbo_lock:\n\u001b[1;32m    850\u001b[0m     _limbo[\u001b[38;5;28mself\u001b[39m] \u001b[38;5;241m=\u001b[39m \u001b[38;5;28mself\u001b[39m\n\u001b[1;32m    851\u001b[0m \u001b[38;5;28;01mtry\u001b[39;00m:\n",
      "\u001b[0;31mKeyboardInterrupt\u001b[0m: "
     ]
    }
   ],
   "source": [
    "model_ckpt_dir = 'multirun/2024-04-29/12-53-12/10'\n",
    "config_dir = os.path.abspath(f'{model_ckpt_dir}/.hydra')\n",
    "hdf5_save_path = \"test_hdf5_save_0.hdf5\"\n",
    "\n",
    "\n",
    "with hydra.initialize_config_dir(config_dir):\n",
    "    cfg = hydra.compose('config', overrides=['n_eval_env=64'])\n",
    "\n",
    "print(\"Collecting env: \", cfg.env)\n",
    "collect_rollouts(cfg, model_ckpt_dir, hdf5_save_path, 5000)"
   ]
  },
  {
   "cell_type": "markdown",
   "metadata": {},
   "source": [
    "```python\n",
    "frame_size = (224, 224)\n",
    "eval_env = make_vec_env(cfg.env, n_envs=cfg.n_eval_env, wrapper_class=MyoSuiteCameraWrapper)\n",
    "eval_env = VecNormalize(eval_env, norm_obs=True, norm_reward=False, clip_obs=10.)\n",
    "obs_space = {\n",
    "    'obs': eval_env.observation_space,\n",
    "    'success': spaces.Box(0, 1, (1,)), \n",
    "    }\n",
    "obs_space.update(eval_env.envs[0].camera_observation_space.spaces)\n",
    "```"
   ]
  },
  {
   "cell_type": "code",
   "execution_count": null,
   "metadata": {},
   "outputs": [],
   "source": [
    "def examine_policy(env, policy, horizon=1000, num_episodes=1, mode='exploration', camera_name='hand_side_inter', frame_size=(224, 224)):\n",
    "    \"\"\"\n",
    "    Static version of examine_policy to be used without class instance.\n",
    "    This function will return the frames instead of saving them.\n",
    "    \"\"\"\n",
    "    frames = []\n",
    "    for ep in range(num_episodes):\n",
    "        observations = []\n",
    "        actions = []\n",
    "        rewards = []\n",
    "        env_infos = []\n",
    "\n",
    "        o = env.reset()\n",
    "        done = False\n",
    "        t = 0\n",
    "        while t < horizon and not done:\n",
    "            a = policy.get_action(o)[0] if mode == 'exploration' else policy.get_action(o)[1]['evaluation']\n",
    "            next_o, rwd, done, env_info = env.step(a)\n",
    "            curr_frame = env.sim.renderer.render_offscreen(width=frame_size[0], height=frame_size[1], camera_id=camera_name)\n",
    "            frames.append(curr_frame)\n",
    "\n",
    "            observations.append(o)\n",
    "            actions.append(a)\n",
    "            rewards.append(rwd)\n",
    "            env_infos.append(env_info)\n",
    "            o = next_o\n",
    "            t += 1\n",
    "\n",
    "    return frames"
   ]
  },
  {
   "cell_type": "code",
   "execution_count": null,
   "metadata": {},
   "outputs": [],
   "source": [
    "o,r,d,i = eval_env.step(policy.predict(eval_env.reset())[0])"
   ]
  },
  {
   "cell_type": "code",
   "execution_count": null,
   "metadata": {},
   "outputs": [],
   "source": [
    "def get_img(env, camera_name):\n",
    "    return env.sim.renderer.render_offscreen(width=frame_size[0],\n",
    "        height=frame_size[1], camera_id=camera_name)"
   ]
  },
  {
   "cell_type": "code",
   "execution_count": null,
   "metadata": {},
   "outputs": [
    {
     "data": {
      "text/plain": [
       "(5, 224, 224, 3)"
      ]
     },
     "execution_count": 141,
     "metadata": {},
     "output_type": "execute_result"
    }
   ],
   "source": [
    "frame_size=(224,224)\n",
    "\n",
    "np.stack([get_img(env, 'hand_side_inter') for env in eval_env.envs]).shape"
   ]
  },
  {
   "cell_type": "code",
   "execution_count": null,
   "metadata": {},
   "outputs": [
    {
     "name": "stdout",
     "output_type": "stream",
     "text": [
      "Using cuda device\n",
      "Wrapping the env in a DummyVecEnv.\n"
     ]
    }
   ],
   "source": [
    "eval_env = make_vec_env(cfg.env, n_envs=cfg.n_eval_env, env_kwargs={\"visual_keys\": \"rgb:hand_side_inter:224x224:2d\"})\n",
    "env = eval_env.envs[0]\n",
    "policy = PPO(cfg.policy, env,  verbose=1,\n",
    "                    learning_rate=cfg.learning_rate, \n",
    "                    batch_size=cfg.batch_size, \n",
    "                    gamma=cfg.gamma, **cfg.alg_hyper_params)\n",
    "policy = PPO.load(model_ckpt_dir + \"/\" + cfg.env + \"_PPO_model\")\n",
    "policy.get_action = policy.predict\n",
    "\n",
    "# video_frames = examine_policy(env, policy, 1000, frame_size=(224, 224))\n",
    "# video_frames = examine_policy(env, policy, 1000, frame_size=(224, 224))"
   ]
  },
  {
   "cell_type": "code",
   "execution_count": null,
   "metadata": {},
   "outputs": [
    {
     "data": {
      "text/plain": [
       "array([0, 1, 0, 0, 1, 1, 0, 1, 1, 0, 0, 0, 0, 1, 0, 1, 0, 0, 0, 0, 0, 0,\n",
       "       1, 1, 0, 0, 0, 1, 0, 0, 0, 0], dtype=uint8)"
      ]
     },
     "execution_count": 30,
     "metadata": {},
     "output_type": "execute_result"
    }
   ],
   "source": [
    "eval_env.envs[0].sim.renderer._scene_option.flags"
   ]
  },
  {
   "cell_type": "code",
   "execution_count": null,
   "metadata": {},
   "outputs": [
    {
     "data": {
      "text/plain": [
       "array([0, 1, 0, 0, 1, 1, 0, 1, 1, 0, 0, 0, 0, 1, 0, 1, 0, 0, 0, 0, 0, 0,\n",
       "       1, 1, 0, 0, 0, 1, 0, 0, 0, 0], dtype=uint8)"
      ]
     },
     "execution_count": 49,
     "metadata": {},
     "output_type": "execute_result"
    }
   ],
   "source": [
    "eval_env.envs[0].sim.renderer._scene_option.flags"
   ]
  },
  {
   "cell_type": "code",
   "execution_count": null,
   "metadata": {},
   "outputs": [],
   "source": [
    "from mujoco import mjtVisFlag"
   ]
  },
  {
   "cell_type": "code",
   "execution_count": null,
   "metadata": {},
   "outputs": [],
   "source": [
    "eval_env.envs[0].sim.renderer._scene_option.flags[mjtVisFlag.mjVIS_STATIC] = 0"
   ]
  },
  {
   "cell_type": "code",
   "execution_count": null,
   "metadata": {},
   "outputs": [],
   "source": [
    "video_frames = examine_policy(eval_env.envs[0], policy, 1000, frame_size=(224, 224))"
   ]
  },
  {
   "cell_type": "code",
   "execution_count": null,
   "metadata": {},
   "outputs": [],
   "source": [
    "eval_env = make_vec_env(cfg.env, n_envs=cfg.n_eval_env, env_kwargs={\"visual_keys\": \"rgb:cam_name:224x224:2d\"})"
   ]
  },
  {
   "cell_type": "code",
   "execution_count": null,
   "metadata": {},
   "outputs": [
    {
     "name": "stdout",
     "output_type": "stream",
     "text": [
      "[-0.1264 -0.1372 -0.1288 -0.1164 -0.1028 -0.106  -0.1176 -0.0945 -0.089\n",
      " -0.0961 -0.0974 -0.0997 -0.0968 -0.1053 -0.1043 -0.1031 -0.094  -0.0965\n",
      " -0.1006 -0.1024 -0.0947 -0.097  -0.0934 -0.1018 -0.1022 -0.0926 -0.0962\n",
      " -0.0932 -0.1011 -0.0939 -0.0925 -0.0955 -0.1088 -0.0928 -0.0883 -0.087\n",
      " -0.0942 -0.1037 -0.0913 -0.094  -0.0959 -0.1086 -0.0978 -0.0971 -0.0976\n",
      " -0.0994 -0.0961 -0.1078 -0.0952 -0.094  -0.0924 -0.1043 -0.0902 -0.0889\n",
      " -0.0871 -0.0954 -0.1041 -0.0902 -0.0923 -0.0935 -0.1059 -0.0921 -0.0884\n",
      " -0.0873 -0.0947 -0.1038 -0.0974 -0.0919 -0.0975 -0.0956 -0.0974 -0.0991\n",
      " -0.0957 -0.0883 -0.0923 -0.0962 -0.099  -0.0941 -0.0964 -0.0924 -0.0955\n",
      " -0.0917 -0.0956 -0.0924 -0.0942 -0.0967 -0.096  -0.0901 -0.0973 -0.093\n",
      " -0.0945 -0.0959 -0.096  -0.0905 -0.0982 -0.0948 -0.0968 -0.101  -0.0849]\n"
     ]
    }
   ],
   "source": [
    "f = h5py.File(hdf5_save_path, 'r')\n",
    "print(f['data']['demo_0']['rewards'][:,0])"
   ]
  },
  {
   "cell_type": "code",
   "execution_count": null,
   "metadata": {},
   "outputs": [
    {
     "data": {
      "text/plain": [
       "[<matplotlib.lines.Line2D at 0x7fecf5bc4550>]"
      ]
     },
     "execution_count": 77,
     "metadata": {},
     "output_type": "execute_result"
    },
    {
     "data": {
      "image/png": "[encoded data removed]",
      "text/plain": [
       "<Figure size 640x480 with 1 Axes>"
      ]
     },
     "metadata": {},
     "output_type": "display_data"
    }
   ],
   "source": [
    "import matplotlib.pyplot as plt\n",
    "plt.plot(f['data']['demo_0']['rewards'][:,0])"
   ]
  },
  {
   "cell_type": "code",
   "execution_count": 3,
   "metadata": {},
   "outputs": [],
   "source": [
    "import h5py\n",
    "import matplotlib.pyplot as plt"
   ]
  },
  {
   "cell_type": "code",
   "execution_count": 4,
   "metadata": {},
   "outputs": [],
   "source": [
    "file = h5py.File(\"test_hdf5_save_0.hdf5\", \"r\")"
   ]
  },
  {
   "cell_type": "code",
   "execution_count": 13,
   "metadata": {},
   "outputs": [],
   "source": [
    "import imageio\n",
    "from IPython.display import Video\n",
    "\n",
    "def generate_video(frames, filename='test_render.mp4'):\n",
    "    # Create a video writer object\n",
    "    video_writer = imageio.get_writer(filename, fps=30)\n",
    "\n",
    "    # Iterate through each frame in the frames list and add it to the video\n",
    "    for frame in frames:\n",
    "        video_writer.append_data(frame)\n",
    "\n",
    "    # Close the video writer to finalize the video file\n",
    "    video_writer.close()\n"
   ]
  },
  {
   "cell_type": "code",
   "execution_count": 18,
   "metadata": {},
   "outputs": [
    {
     "data": {
      "text/html": [
       "<video src=\"test_render.mp4\" controls  >\n",
       "      Your browser does not support the <code>video</code> element.\n",
       "    </video>"
      ],
      "text/plain": [
       "<IPython.core.display.Video object>"
      ]
     },
     "execution_count": 18,
     "metadata": {},
     "output_type": "execute_result"
    }
   ],
   "source": [
    "generate_video(file['data/demo_101/obs/hand_side_inter'][:].astype(np.uint8), 'test_render.mp4')\n",
    "# Display the video in the Jupyter notebook\n",
    "Video(\"test_render.mp4\")\n"
   ]
  }
 ],
 "metadata": {
  "kernelspec": {
   "display_name": "multitask",
   "language": "python",
   "name": "python3"
  },
  "language_info": {
   "codemirror_mode": {
    "name": "ipython",
    "version": 3
   },
   "file_extension": ".py",
   "mimetype": "text/x-python",
   "name": "python",
   "nbconvert_exporter": "python",
   "pygments_lexer": "ipython3",
   "version": "3.8.18"
  }
 },
 "nbformat": 4,
 "nbformat_minor": 2
}
